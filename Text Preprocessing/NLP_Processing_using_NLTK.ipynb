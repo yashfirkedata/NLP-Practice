{
  "nbformat": 4,
  "nbformat_minor": 0,
  "metadata": {
    "colab": {
      "provenance": [],
      "authorship_tag": "ABX9TyOpGxRXZrqdWmeC070kUbTZ",
      "include_colab_link": true
    },
    "kernelspec": {
      "name": "python3",
      "display_name": "Python 3"
    },
    "language_info": {
      "name": "python"
    }
  },
  "cells": [
    {
      "cell_type": "markdown",
      "metadata": {
        "id": "view-in-github",
        "colab_type": "text"
      },
      "source": [
        "<a href=\"https://colab.research.google.com/github/yashfirkedata/NLP-Practice/blob/main/Text%20Preprocessing/NLP_Processing_using_NLTK.ipynb\" target=\"_parent\"><img src=\"https://colab.research.google.com/assets/colab-badge.svg\" alt=\"Open In Colab\"/></a>"
      ]
    },
    {
      "cell_type": "markdown",
      "source": [
        "# **Text Processing using NLTK**"
      ],
      "metadata": {
        "id": "FaqM5wGUQS0f"
      }
    },
    {
      "cell_type": "markdown",
      "source": [
        "## **Tokenizing**"
      ],
      "metadata": {
        "id": "wWuG6OA0S4gA"
      }
    },
    {
      "cell_type": "code",
      "source": [
        "import nltk\n",
        "from nltk.tokenize import sent_tokenize, word_tokenize\n",
        "nltk.download('punkt')"
      ],
      "metadata": {
        "colab": {
          "base_uri": "https://localhost:8080/"
        },
        "id": "mKVJ_aUKS6nx",
        "outputId": "8dce1306-1068-4469-8b67-781d14d53dae"
      },
      "execution_count": 1,
      "outputs": [
        {
          "output_type": "stream",
          "name": "stderr",
          "text": [
            "[nltk_data] Downloading package punkt to /root/nltk_data...\n",
            "[nltk_data]   Unzipping tokenizers/punkt.zip.\n"
          ]
        },
        {
          "output_type": "execute_result",
          "data": {
            "text/plain": [
              "True"
            ]
          },
          "metadata": {},
          "execution_count": 1
        }
      ]
    },
    {
      "cell_type": "code",
      "source": [
        "example_str = \"Hello I am Yash Firke. I am currently learing natural language processing\""
      ],
      "metadata": {
        "id": "hPmqc2INTJkV"
      },
      "execution_count": 2,
      "outputs": []
    },
    {
      "cell_type": "code",
      "source": [
        "sent_tokenize(example_str)"
      ],
      "metadata": {
        "colab": {
          "base_uri": "https://localhost:8080/"
        },
        "id": "HNCWfxfWTVct",
        "outputId": "73da238a-5478-40d1-b07a-0e0c22769d50"
      },
      "execution_count": 3,
      "outputs": [
        {
          "output_type": "execute_result",
          "data": {
            "text/plain": [
              "['Hello I am Yash Firke.',\n",
              " 'I am currently learing natural language processing']"
            ]
          },
          "metadata": {},
          "execution_count": 3
        }
      ]
    },
    {
      "cell_type": "code",
      "source": [
        "word_tokenize(example_str)"
      ],
      "metadata": {
        "colab": {
          "base_uri": "https://localhost:8080/"
        },
        "id": "csaFyvO0TXxf",
        "outputId": "c621c985-45ba-41cb-ba0e-f6d1d02ca943"
      },
      "execution_count": 4,
      "outputs": [
        {
          "output_type": "execute_result",
          "data": {
            "text/plain": [
              "['Hello',\n",
              " 'I',\n",
              " 'am',\n",
              " 'Yash',\n",
              " 'Firke',\n",
              " '.',\n",
              " 'I',\n",
              " 'am',\n",
              " 'currently',\n",
              " 'learing',\n",
              " 'natural',\n",
              " 'language',\n",
              " 'processing']"
            ]
          },
          "metadata": {},
          "execution_count": 4
        }
      ]
    },
    {
      "cell_type": "markdown",
      "source": [
        "## **Filtering Stop Words**"
      ],
      "metadata": {
        "id": "Utqv4RMsTs65"
      }
    },
    {
      "cell_type": "code",
      "source": [
        "nltk.download('stopwords')"
      ],
      "metadata": {
        "colab": {
          "base_uri": "https://localhost:8080/"
        },
        "id": "o5VDQGoFTzpL",
        "outputId": "b0e6fc4d-06f9-4934-817e-2526c57f16c7"
      },
      "execution_count": 5,
      "outputs": [
        {
          "output_type": "stream",
          "name": "stderr",
          "text": [
            "[nltk_data] Downloading package stopwords to /root/nltk_data...\n",
            "[nltk_data]   Unzipping corpora/stopwords.zip.\n"
          ]
        },
        {
          "output_type": "execute_result",
          "data": {
            "text/plain": [
              "True"
            ]
          },
          "metadata": {},
          "execution_count": 5
        }
      ]
    },
    {
      "cell_type": "code",
      "source": [
        "from nltk.corpus import stopwords\n",
        "from nltk.tokenize import word_tokenize"
      ],
      "metadata": {
        "id": "uQT8Up1WT2Zv"
      },
      "execution_count": 6,
      "outputs": []
    },
    {
      "cell_type": "code",
      "source": [
        "words_example_str = word_tokenize(example_str)"
      ],
      "metadata": {
        "id": "W_gBDb89T8R_"
      },
      "execution_count": 7,
      "outputs": []
    },
    {
      "cell_type": "code",
      "source": [
        "words_example_str"
      ],
      "metadata": {
        "colab": {
          "base_uri": "https://localhost:8080/"
        },
        "id": "9wfwnGwTUA0B",
        "outputId": "02e930e6-76a2-4258-fcf0-0782590e6d93"
      },
      "execution_count": 8,
      "outputs": [
        {
          "output_type": "execute_result",
          "data": {
            "text/plain": [
              "['Hello',\n",
              " 'I',\n",
              " 'am',\n",
              " 'Yash',\n",
              " 'Firke',\n",
              " '.',\n",
              " 'I',\n",
              " 'am',\n",
              " 'currently',\n",
              " 'learing',\n",
              " 'natural',\n",
              " 'language',\n",
              " 'processing']"
            ]
          },
          "metadata": {},
          "execution_count": 8
        }
      ]
    },
    {
      "cell_type": "code",
      "source": [
        "stop_words = set(stopwords.words('english'))"
      ],
      "metadata": {
        "id": "q1uqf4sAUCk2"
      },
      "execution_count": 9,
      "outputs": []
    },
    {
      "cell_type": "code",
      "source": [
        "filtered_list = []\n",
        "for word in words_example_str:\n",
        "  if word.casefold() not in stop_words:\n",
        "    filtered_list.append(word)"
      ],
      "metadata": {
        "id": "Lq2ncFOEUIW8"
      },
      "execution_count": 10,
      "outputs": []
    },
    {
      "cell_type": "code",
      "source": [
        "filtered_list"
      ],
      "metadata": {
        "colab": {
          "base_uri": "https://localhost:8080/"
        },
        "id": "qCfnIhC8UTVZ",
        "outputId": "d6285e88-bfa3-442f-e3d8-115ec8804bb9"
      },
      "execution_count": 11,
      "outputs": [
        {
          "output_type": "execute_result",
          "data": {
            "text/plain": [
              "['Hello',\n",
              " 'Yash',\n",
              " 'Firke',\n",
              " '.',\n",
              " 'currently',\n",
              " 'learing',\n",
              " 'natural',\n",
              " 'language',\n",
              " 'processing']"
            ]
          },
          "metadata": {},
          "execution_count": 11
        }
      ]
    },
    {
      "cell_type": "markdown",
      "source": [
        "## **Stemming**"
      ],
      "metadata": {
        "id": "e1O4SZEFUWPH"
      }
    },
    {
      "cell_type": "markdown",
      "source": [
        "![Screenshot 2024-07-09 123859.png](data:image/png;base64,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)"
      ],
      "metadata": {
        "id": "MySp1mSIUrSX"
      }
    },
    {
      "cell_type": "code",
      "source": [
        "from nltk.stem import PorterStemmer\n",
        "from nltk.tokenize import word_tokenize\n",
        "stemmer = PorterStemmer()"
      ],
      "metadata": {
        "id": "5AlbaxTpU2RH"
      },
      "execution_count": 12,
      "outputs": []
    },
    {
      "cell_type": "code",
      "source": [
        "string_for_stemming = \"\"\"\n",
        "The crew of the USS Discovery discovered many discoveries.\n",
        "Discovering is what explorers do.\"\"\""
      ],
      "metadata": {
        "id": "JgCFi70EVAYM"
      },
      "execution_count": 13,
      "outputs": []
    },
    {
      "cell_type": "code",
      "source": [
        "words = word_tokenize(string_for_stemming)"
      ],
      "metadata": {
        "id": "lSnN9-1WVE4G"
      },
      "execution_count": 14,
      "outputs": []
    },
    {
      "cell_type": "code",
      "source": [
        "words"
      ],
      "metadata": {
        "colab": {
          "base_uri": "https://localhost:8080/"
        },
        "id": "uu9qY3_eVI_Q",
        "outputId": "9a1767a9-27d1-462a-ac38-432690f6b908"
      },
      "execution_count": 15,
      "outputs": [
        {
          "output_type": "execute_result",
          "data": {
            "text/plain": [
              "['The',\n",
              " 'crew',\n",
              " 'of',\n",
              " 'the',\n",
              " 'USS',\n",
              " 'Discovery',\n",
              " 'discovered',\n",
              " 'many',\n",
              " 'discoveries',\n",
              " '.',\n",
              " 'Discovering',\n",
              " 'is',\n",
              " 'what',\n",
              " 'explorers',\n",
              " 'do',\n",
              " '.']"
            ]
          },
          "metadata": {},
          "execution_count": 15
        }
      ]
    },
    {
      "cell_type": "code",
      "source": [
        "stemmed_word= [stemmer.stem(word) for word in words]"
      ],
      "metadata": {
        "id": "j-qFK1eoVKcO"
      },
      "execution_count": 16,
      "outputs": []
    },
    {
      "cell_type": "code",
      "source": [
        "stemmed_word"
      ],
      "metadata": {
        "colab": {
          "base_uri": "https://localhost:8080/"
        },
        "id": "wI4iP_gNVSht",
        "outputId": "716e1fe5-9f8f-40f5-cb9a-4153d12a426c"
      },
      "execution_count": 17,
      "outputs": [
        {
          "output_type": "execute_result",
          "data": {
            "text/plain": [
              "['the',\n",
              " 'crew',\n",
              " 'of',\n",
              " 'the',\n",
              " 'uss',\n",
              " 'discoveri',\n",
              " 'discov',\n",
              " 'mani',\n",
              " 'discoveri',\n",
              " '.',\n",
              " 'discov',\n",
              " 'is',\n",
              " 'what',\n",
              " 'explor',\n",
              " 'do',\n",
              " '.']"
            ]
          },
          "metadata": {},
          "execution_count": 17
        }
      ]
    },
    {
      "cell_type": "markdown",
      "source": [
        "\n",
        "\n",
        "```\n",
        "Understemming and overstemming are two ways stemming can go wrong:\n",
        "\n",
        "Understemming happens when two related words should be reduced to the same stem but aren’t. This is a false negative.\n",
        "Overstemming happens when two unrelated words are reduced to the same stem even though they shouldn’t be. This is a false positive.\n",
        "```\n",
        "\n"
      ],
      "metadata": {
        "id": "cvQEa1aZVVHt"
      }
    },
    {
      "cell_type": "markdown",
      "source": [
        "## **POS Tagging**"
      ],
      "metadata": {
        "id": "cW5U1UHPVkLh"
      }
    },
    {
      "cell_type": "code",
      "source": [
        "example_str"
      ],
      "metadata": {
        "colab": {
          "base_uri": "https://localhost:8080/",
          "height": 36
        },
        "id": "wmKe_oowVpcR",
        "outputId": "f1e37541-9dbf-484a-ab15-6c51bb05acde"
      },
      "execution_count": 18,
      "outputs": [
        {
          "output_type": "execute_result",
          "data": {
            "text/plain": [
              "'Hello I am Yash Firke. I am currently learing natural language processing'"
            ],
            "application/vnd.google.colaboratory.intrinsic+json": {
              "type": "string"
            }
          },
          "metadata": {},
          "execution_count": 18
        }
      ]
    },
    {
      "cell_type": "code",
      "source": [
        "words_ex = word_tokenize(example_str)"
      ],
      "metadata": {
        "id": "VqU3sOcNfJOL"
      },
      "execution_count": 19,
      "outputs": []
    },
    {
      "cell_type": "code",
      "source": [
        "nltk.download('averaged_perceptron_tagger')\n",
        "nltk.pos_tag(words_ex)"
      ],
      "metadata": {
        "colab": {
          "base_uri": "https://localhost:8080/"
        },
        "id": "G-6Pz6EofPfm",
        "outputId": "25e41648-a3b1-431c-d250-33b818ac186c"
      },
      "execution_count": 21,
      "outputs": [
        {
          "output_type": "stream",
          "name": "stderr",
          "text": [
            "[nltk_data] Downloading package averaged_perceptron_tagger to\n",
            "[nltk_data]     /root/nltk_data...\n",
            "[nltk_data]   Unzipping taggers/averaged_perceptron_tagger.zip.\n"
          ]
        },
        {
          "output_type": "execute_result",
          "data": {
            "text/plain": [
              "[('Hello', 'NNP'),\n",
              " ('I', 'PRP'),\n",
              " ('am', 'VBP'),\n",
              " ('Yash', 'JJ'),\n",
              " ('Firke', 'NNP'),\n",
              " ('.', '.'),\n",
              " ('I', 'PRP'),\n",
              " ('am', 'VBP'),\n",
              " ('currently', 'RB'),\n",
              " ('learing', 'VBG'),\n",
              " ('natural', 'JJ'),\n",
              " ('language', 'NN'),\n",
              " ('processing', 'NN')]"
            ]
          },
          "metadata": {},
          "execution_count": 21
        }
      ]
    },
    {
      "cell_type": "code",
      "source": [
        "nltk.download('tagsets')\n",
        "nltk.help.upenn_tagset() # to get pos tags and their meanings"
      ],
      "metadata": {
        "colab": {
          "base_uri": "https://localhost:8080/"
        },
        "id": "c9MjJaH3fSjz",
        "outputId": "00d58748-bb1c-407c-bdd8-b39fac537edc"
      },
      "execution_count": 23,
      "outputs": [
        {
          "output_type": "stream",
          "name": "stderr",
          "text": [
            "[nltk_data] Downloading package tagsets to /root/nltk_data...\n"
          ]
        },
        {
          "output_type": "stream",
          "name": "stdout",
          "text": [
            "$: dollar\n",
            "    $ -$ --$ A$ C$ HK$ M$ NZ$ S$ U.S.$ US$\n",
            "'': closing quotation mark\n",
            "    ' ''\n",
            "(: opening parenthesis\n",
            "    ( [ {\n",
            "): closing parenthesis\n",
            "    ) ] }\n",
            ",: comma\n",
            "    ,\n",
            "--: dash\n",
            "    --\n",
            ".: sentence terminator\n",
            "    . ! ?\n",
            ":: colon or ellipsis\n",
            "    : ; ...\n",
            "CC: conjunction, coordinating\n",
            "    & 'n and both but either et for less minus neither nor or plus so\n",
            "    therefore times v. versus vs. whether yet\n",
            "CD: numeral, cardinal\n",
            "    mid-1890 nine-thirty forty-two one-tenth ten million 0.5 one forty-\n",
            "    seven 1987 twenty '79 zero two 78-degrees eighty-four IX '60s .025\n",
            "    fifteen 271,124 dozen quintillion DM2,000 ...\n",
            "DT: determiner\n",
            "    all an another any both del each either every half la many much nary\n",
            "    neither no some such that the them these this those\n",
            "EX: existential there\n",
            "    there\n",
            "FW: foreign word\n",
            "    gemeinschaft hund ich jeux habeas Haementeria Herr K'ang-si vous\n",
            "    lutihaw alai je jour objets salutaris fille quibusdam pas trop Monte\n",
            "    terram fiche oui corporis ...\n",
            "IN: preposition or conjunction, subordinating\n",
            "    astride among uppon whether out inside pro despite on by throughout\n",
            "    below within for towards near behind atop around if like until below\n",
            "    next into if beside ...\n",
            "JJ: adjective or numeral, ordinal\n",
            "    third ill-mannered pre-war regrettable oiled calamitous first separable\n",
            "    ectoplasmic battery-powered participatory fourth still-to-be-named\n",
            "    multilingual multi-disciplinary ...\n",
            "JJR: adjective, comparative\n",
            "    bleaker braver breezier briefer brighter brisker broader bumper busier\n",
            "    calmer cheaper choosier cleaner clearer closer colder commoner costlier\n",
            "    cozier creamier crunchier cuter ...\n",
            "JJS: adjective, superlative\n",
            "    calmest cheapest choicest classiest cleanest clearest closest commonest\n",
            "    corniest costliest crassest creepiest crudest cutest darkest deadliest\n",
            "    dearest deepest densest dinkiest ...\n",
            "LS: list item marker\n",
            "    A A. B B. C C. D E F First G H I J K One SP-44001 SP-44002 SP-44005\n",
            "    SP-44007 Second Third Three Two * a b c d first five four one six three\n",
            "    two\n",
            "MD: modal auxiliary\n",
            "    can cannot could couldn't dare may might must need ought shall should\n",
            "    shouldn't will would\n",
            "NN: noun, common, singular or mass\n",
            "    common-carrier cabbage knuckle-duster Casino afghan shed thermostat\n",
            "    investment slide humour falloff slick wind hyena override subhumanity\n",
            "    machinist ...\n",
            "NNP: noun, proper, singular\n",
            "    Motown Venneboerger Czestochwa Ranzer Conchita Trumplane Christos\n",
            "    Oceanside Escobar Kreisler Sawyer Cougar Yvette Ervin ODI Darryl CTCA\n",
            "    Shannon A.K.C. Meltex Liverpool ...\n",
            "NNPS: noun, proper, plural\n",
            "    Americans Americas Amharas Amityvilles Amusements Anarcho-Syndicalists\n",
            "    Andalusians Andes Andruses Angels Animals Anthony Antilles Antiques\n",
            "    Apache Apaches Apocrypha ...\n",
            "NNS: noun, common, plural\n",
            "    undergraduates scotches bric-a-brac products bodyguards facets coasts\n",
            "    divestitures storehouses designs clubs fragrances averages\n",
            "    subjectivists apprehensions muses factory-jobs ...\n",
            "PDT: pre-determiner\n",
            "    all both half many quite such sure this\n",
            "POS: genitive marker\n",
            "    ' 's\n",
            "PRP: pronoun, personal\n",
            "    hers herself him himself hisself it itself me myself one oneself ours\n",
            "    ourselves ownself self she thee theirs them themselves they thou thy us\n",
            "PRP$: pronoun, possessive\n",
            "    her his mine my our ours their thy your\n",
            "RB: adverb\n",
            "    occasionally unabatingly maddeningly adventurously professedly\n",
            "    stirringly prominently technologically magisterially predominately\n",
            "    swiftly fiscally pitilessly ...\n",
            "RBR: adverb, comparative\n",
            "    further gloomier grander graver greater grimmer harder harsher\n",
            "    healthier heavier higher however larger later leaner lengthier less-\n",
            "    perfectly lesser lonelier longer louder lower more ...\n",
            "RBS: adverb, superlative\n",
            "    best biggest bluntest earliest farthest first furthest hardest\n",
            "    heartiest highest largest least less most nearest second tightest worst\n",
            "RP: particle\n",
            "    aboard about across along apart around aside at away back before behind\n",
            "    by crop down ever fast for forth from go high i.e. in into just later\n",
            "    low more off on open out over per pie raising start teeth that through\n",
            "    under unto up up-pp upon whole with you\n",
            "SYM: symbol\n",
            "    % & ' '' ''. ) ). * + ,. < = > @ A[fj] U.S U.S.S.R * ** ***\n",
            "TO: \"to\" as preposition or infinitive marker\n",
            "    to\n",
            "UH: interjection\n",
            "    Goodbye Goody Gosh Wow Jeepers Jee-sus Hubba Hey Kee-reist Oops amen\n",
            "    huh howdy uh dammit whammo shucks heck anyways whodunnit honey golly\n",
            "    man baby diddle hush sonuvabitch ...\n",
            "VB: verb, base form\n",
            "    ask assemble assess assign assume atone attention avoid bake balkanize\n",
            "    bank begin behold believe bend benefit bevel beware bless boil bomb\n",
            "    boost brace break bring broil brush build ...\n",
            "VBD: verb, past tense\n",
            "    dipped pleaded swiped regummed soaked tidied convened halted registered\n",
            "    cushioned exacted snubbed strode aimed adopted belied figgered\n",
            "    speculated wore appreciated contemplated ...\n",
            "VBG: verb, present participle or gerund\n",
            "    telegraphing stirring focusing angering judging stalling lactating\n",
            "    hankerin' alleging veering capping approaching traveling besieging\n",
            "    encrypting interrupting erasing wincing ...\n",
            "VBN: verb, past participle\n",
            "    multihulled dilapidated aerosolized chaired languished panelized used\n",
            "    experimented flourished imitated reunifed factored condensed sheared\n",
            "    unsettled primed dubbed desired ...\n",
            "VBP: verb, present tense, not 3rd person singular\n",
            "    predominate wrap resort sue twist spill cure lengthen brush terminate\n",
            "    appear tend stray glisten obtain comprise detest tease attract\n",
            "    emphasize mold postpone sever return wag ...\n",
            "VBZ: verb, present tense, 3rd person singular\n",
            "    bases reconstructs marks mixes displeases seals carps weaves snatches\n",
            "    slumps stretches authorizes smolders pictures emerges stockpiles\n",
            "    seduces fizzes uses bolsters slaps speaks pleads ...\n",
            "WDT: WH-determiner\n",
            "    that what whatever which whichever\n",
            "WP: WH-pronoun\n",
            "    that what whatever whatsoever which who whom whosoever\n",
            "WP$: WH-pronoun, possessive\n",
            "    whose\n",
            "WRB: Wh-adverb\n",
            "    how however whence whenever where whereby whereever wherein whereof why\n",
            "``: opening quotation mark\n",
            "    ` ``\n"
          ]
        },
        {
          "output_type": "stream",
          "name": "stderr",
          "text": [
            "[nltk_data]   Unzipping help/tagsets.zip.\n"
          ]
        }
      ]
    },
    {
      "cell_type": "markdown",
      "source": [
        "## **Leammatizing**"
      ],
      "metadata": {
        "id": "4f8-xOuofcAh"
      }
    },
    {
      "cell_type": "code",
      "source": [
        "from nltk.stem import WordNetLemmatizer\n",
        "lemmatizer = WordNetLemmatizer()"
      ],
      "metadata": {
        "id": "sLlUaWxsf0G6"
      },
      "execution_count": 24,
      "outputs": []
    },
    {
      "cell_type": "code",
      "source": [
        "string_for_lemmatizing = \"The friends of DeSoto love scarves.\""
      ],
      "metadata": {
        "id": "5W7gQkMEf78R"
      },
      "execution_count": 29,
      "outputs": []
    },
    {
      "cell_type": "code",
      "source": [
        "words = word_tokenize(string_for_lemmatizing)"
      ],
      "metadata": {
        "id": "uzY7Mk5QgYn8"
      },
      "execution_count": 31,
      "outputs": []
    },
    {
      "cell_type": "code",
      "source": [
        "nltk.download('wordnet')\n",
        "lemmatized_words = [lemmatizer.lemmatize(word) for word in words]"
      ],
      "metadata": {
        "colab": {
          "base_uri": "https://localhost:8080/"
        },
        "id": "XB1yZOTdf_JQ",
        "outputId": "de58edd9-8a4b-4f6a-fee7-923152123446"
      },
      "execution_count": 32,
      "outputs": [
        {
          "output_type": "stream",
          "name": "stderr",
          "text": [
            "[nltk_data] Downloading package wordnet to /root/nltk_data...\n",
            "[nltk_data]   Package wordnet is already up-to-date!\n"
          ]
        }
      ]
    },
    {
      "cell_type": "code",
      "source": [
        "lemmatized_words"
      ],
      "metadata": {
        "colab": {
          "base_uri": "https://localhost:8080/"
        },
        "id": "xFv91nS-gIGH",
        "outputId": "e17e690d-20b5-4c2e-dfd0-c95a82ff9590"
      },
      "execution_count": 33,
      "outputs": [
        {
          "output_type": "execute_result",
          "data": {
            "text/plain": [
              "['The', 'friend', 'of', 'DeSoto', 'love', 'scarf', '.']"
            ]
          },
          "metadata": {},
          "execution_count": 33
        }
      ]
    },
    {
      "cell_type": "markdown",
      "source": [
        "Catch:\n"
      ],
      "metadata": {
        "id": "Ais4l0jngN3f"
      }
    },
    {
      "cell_type": "code",
      "source": [
        "lemmatizer.lemmatize(\"worst\")"
      ],
      "metadata": {
        "colab": {
          "base_uri": "https://localhost:8080/",
          "height": 36
        },
        "id": "YKtDggW4gp0l",
        "outputId": "2419e6a3-fab6-4eb3-b305-4becc4dfad33"
      },
      "execution_count": 34,
      "outputs": [
        {
          "output_type": "execute_result",
          "data": {
            "text/plain": [
              "'worst'"
            ],
            "application/vnd.google.colaboratory.intrinsic+json": {
              "type": "string"
            }
          },
          "metadata": {},
          "execution_count": 34
        }
      ]
    },
    {
      "cell_type": "markdown",
      "source": [
        "You got the result 'worst' because lemmatizer.lemmatize() assumed that \"worst\" was a noun. You can make it clear that you want \"worst\" to be an adjective:"
      ],
      "metadata": {
        "id": "tjh6tJ59gqTC"
      }
    },
    {
      "cell_type": "code",
      "source": [
        "lemmatizer.lemmatize(\"worst\", pos=\"a\")"
      ],
      "metadata": {
        "colab": {
          "base_uri": "https://localhost:8080/",
          "height": 36
        },
        "id": "WIz1iBu1gtvD",
        "outputId": "072dac38-a116-40a3-ac29-2f479362594f"
      },
      "execution_count": 35,
      "outputs": [
        {
          "output_type": "execute_result",
          "data": {
            "text/plain": [
              "'bad'"
            ],
            "application/vnd.google.colaboratory.intrinsic+json": {
              "type": "string"
            }
          },
          "metadata": {},
          "execution_count": 35
        }
      ]
    },
    {
      "cell_type": "markdown",
      "source": [
        "## **Chunking**"
      ],
      "metadata": {
        "id": "qC8DFNMPgwZ2"
      }
    },
    {
      "cell_type": "markdown",
      "source": [
        "To identify phrases"
      ],
      "metadata": {
        "id": "7LgCB4mdgyzH"
      }
    },
    {
      "cell_type": "code",
      "source": [
        "lotr_quote = \"It's a dangerous business, Frodo, going out your door.\""
      ],
      "metadata": {
        "id": "172lwkvag7gw"
      },
      "execution_count": 36,
      "outputs": []
    },
    {
      "cell_type": "code",
      "source": [
        "words_in_lotr_quote = word_tokenize(lotr_quote)\n",
        "words_in_lotr_quote"
      ],
      "metadata": {
        "colab": {
          "base_uri": "https://localhost:8080/"
        },
        "id": "n9eks1Pjg9Z-",
        "outputId": "ffef7f3a-d754-4b2b-e341-f482f9e383cc"
      },
      "execution_count": 37,
      "outputs": [
        {
          "output_type": "execute_result",
          "data": {
            "text/plain": [
              "['It',\n",
              " \"'s\",\n",
              " 'a',\n",
              " 'dangerous',\n",
              " 'business',\n",
              " ',',\n",
              " 'Frodo',\n",
              " ',',\n",
              " 'going',\n",
              " 'out',\n",
              " 'your',\n",
              " 'door',\n",
              " '.']"
            ]
          },
          "metadata": {},
          "execution_count": 37
        }
      ]
    },
    {
      "cell_type": "code",
      "source": [
        "nltk.download(\"averaged_perceptron_tagger\")\n",
        "lotr_pos_tags = nltk.pos_tag(words_in_lotr_quote)\n",
        "lotr_pos_tags"
      ],
      "metadata": {
        "colab": {
          "base_uri": "https://localhost:8080/"
        },
        "id": "rV8aNYpOg-ln",
        "outputId": "9819cc50-2372-4c86-dac6-557a04d92981"
      },
      "execution_count": 38,
      "outputs": [
        {
          "output_type": "stream",
          "name": "stderr",
          "text": [
            "[nltk_data] Downloading package averaged_perceptron_tagger to\n",
            "[nltk_data]     /root/nltk_data...\n",
            "[nltk_data]   Package averaged_perceptron_tagger is already up-to-\n",
            "[nltk_data]       date!\n"
          ]
        },
        {
          "output_type": "execute_result",
          "data": {
            "text/plain": [
              "[('It', 'PRP'),\n",
              " (\"'s\", 'VBZ'),\n",
              " ('a', 'DT'),\n",
              " ('dangerous', 'JJ'),\n",
              " ('business', 'NN'),\n",
              " (',', ','),\n",
              " ('Frodo', 'NNP'),\n",
              " (',', ','),\n",
              " ('going', 'VBG'),\n",
              " ('out', 'RP'),\n",
              " ('your', 'PRP$'),\n",
              " ('door', 'NN'),\n",
              " ('.', '.')]"
            ]
          },
          "metadata": {},
          "execution_count": 38
        }
      ]
    },
    {
      "cell_type": "markdown",
      "source": [
        "In order to chunk, you first need to define a chunk grammar.\n",
        "\n",
        "> Note: A chunk grammar is a combination of rules on how sentences should be chunked. It often uses regular expressions, or regexes."
      ],
      "metadata": {
        "id": "sT0yVTLphAYt"
      }
    },
    {
      "cell_type": "code",
      "source": [
        "grammar = \"NP: {<DT>?<JJ>*<NN>}\"\n",
        "chunk_parser = nltk.RegexpParser(grammar)\n",
        "tree = chunk_parser.parse(lotr_pos_tags)"
      ],
      "metadata": {
        "id": "c-sNUZr5hKFl"
      },
      "execution_count": 39,
      "outputs": []
    },
    {
      "cell_type": "code",
      "source": [
        "print(tree)"
      ],
      "metadata": {
        "colab": {
          "base_uri": "https://localhost:8080/"
        },
        "id": "9yZCpoXghUMV",
        "outputId": "07dde13e-75ac-48e5-80bb-e8f0edfcdbbe"
      },
      "execution_count": 44,
      "outputs": [
        {
          "output_type": "stream",
          "name": "stdout",
          "text": [
            "(S\n",
            "  It/PRP\n",
            "  's/VBZ\n",
            "  (NP a/DT dangerous/JJ business/NN)\n",
            "  ,/,\n",
            "  Frodo/NNP\n",
            "  ,/,\n",
            "  going/VBG\n",
            "  out/RP\n",
            "  your/PRP$\n",
            "  (NP door/NN)\n",
            "  ./.)\n"
          ]
        }
      ]
    },
    {
      "cell_type": "code",
      "source": [
        "!pip install tk\n",
        "tree.draw()"
      ],
      "metadata": {
        "colab": {
          "base_uri": "https://localhost:8080/",
          "height": 408
        },
        "id": "CiF0fbpWilK5",
        "outputId": "d14b3b8f-5a82-43bc-afbd-fbb9522fefb8"
      },
      "execution_count": 46,
      "outputs": [
        {
          "output_type": "stream",
          "name": "stdout",
          "text": [
            "Collecting tk\n",
            "  Downloading tk-0.1.0-py3-none-any.whl (3.9 kB)\n",
            "Installing collected packages: tk\n",
            "Successfully installed tk-0.1.0\n"
          ]
        },
        {
          "output_type": "error",
          "ename": "TclError",
          "evalue": "no display name and no $DISPLAY environment variable",
          "traceback": [
            "\u001b[0;31m---------------------------------------------------------------------------\u001b[0m",
            "\u001b[0;31mTclError\u001b[0m                                  Traceback (most recent call last)",
            "\u001b[0;32m<ipython-input-46-d2e10591d3fe>\u001b[0m in \u001b[0;36m<cell line: 2>\u001b[0;34m()\u001b[0m\n\u001b[1;32m      1\u001b[0m \u001b[0mget_ipython\u001b[0m\u001b[0;34m(\u001b[0m\u001b[0;34m)\u001b[0m\u001b[0;34m.\u001b[0m\u001b[0msystem\u001b[0m\u001b[0;34m(\u001b[0m\u001b[0;34m'pip install tk'\u001b[0m\u001b[0;34m)\u001b[0m\u001b[0;34m\u001b[0m\u001b[0;34m\u001b[0m\u001b[0m\n\u001b[0;32m----> 2\u001b[0;31m \u001b[0mtree\u001b[0m\u001b[0;34m.\u001b[0m\u001b[0mdraw\u001b[0m\u001b[0;34m(\u001b[0m\u001b[0;34m)\u001b[0m\u001b[0;34m\u001b[0m\u001b[0;34m\u001b[0m\u001b[0m\n\u001b[0m",
            "\u001b[0;32m/usr/local/lib/python3.10/dist-packages/nltk/tree/tree.py\u001b[0m in \u001b[0;36mdraw\u001b[0;34m(self)\u001b[0m\n\u001b[1;32m    759\u001b[0m         \u001b[0;32mfrom\u001b[0m \u001b[0mnltk\u001b[0m\u001b[0;34m.\u001b[0m\u001b[0mdraw\u001b[0m\u001b[0;34m.\u001b[0m\u001b[0mtree\u001b[0m \u001b[0;32mimport\u001b[0m \u001b[0mdraw_trees\u001b[0m\u001b[0;34m\u001b[0m\u001b[0;34m\u001b[0m\u001b[0m\n\u001b[1;32m    760\u001b[0m \u001b[0;34m\u001b[0m\u001b[0m\n\u001b[0;32m--> 761\u001b[0;31m         \u001b[0mdraw_trees\u001b[0m\u001b[0;34m(\u001b[0m\u001b[0mself\u001b[0m\u001b[0;34m)\u001b[0m\u001b[0;34m\u001b[0m\u001b[0;34m\u001b[0m\u001b[0m\n\u001b[0m\u001b[1;32m    762\u001b[0m \u001b[0;34m\u001b[0m\u001b[0m\n\u001b[1;32m    763\u001b[0m     \u001b[0;32mdef\u001b[0m \u001b[0mpretty_print\u001b[0m\u001b[0;34m(\u001b[0m\u001b[0mself\u001b[0m\u001b[0;34m,\u001b[0m \u001b[0msentence\u001b[0m\u001b[0;34m=\u001b[0m\u001b[0;32mNone\u001b[0m\u001b[0;34m,\u001b[0m \u001b[0mhighlight\u001b[0m\u001b[0;34m=\u001b[0m\u001b[0;34m(\u001b[0m\u001b[0;34m)\u001b[0m\u001b[0;34m,\u001b[0m \u001b[0mstream\u001b[0m\u001b[0;34m=\u001b[0m\u001b[0;32mNone\u001b[0m\u001b[0;34m,\u001b[0m \u001b[0;34m**\u001b[0m\u001b[0mkwargs\u001b[0m\u001b[0;34m)\u001b[0m\u001b[0;34m:\u001b[0m\u001b[0;34m\u001b[0m\u001b[0;34m\u001b[0m\u001b[0m\n",
            "\u001b[0;32m/usr/local/lib/python3.10/dist-packages/nltk/draw/tree.py\u001b[0m in \u001b[0;36mdraw_trees\u001b[0;34m(*trees)\u001b[0m\n\u001b[1;32m   1006\u001b[0m     \u001b[0;34m:\u001b[0m\u001b[0mrtype\u001b[0m\u001b[0;34m:\u001b[0m \u001b[0;32mNone\u001b[0m\u001b[0;34m\u001b[0m\u001b[0;34m\u001b[0m\u001b[0m\n\u001b[1;32m   1007\u001b[0m     \"\"\"\n\u001b[0;32m-> 1008\u001b[0;31m     \u001b[0mTreeView\u001b[0m\u001b[0;34m(\u001b[0m\u001b[0;34m*\u001b[0m\u001b[0mtrees\u001b[0m\u001b[0;34m)\u001b[0m\u001b[0;34m.\u001b[0m\u001b[0mmainloop\u001b[0m\u001b[0;34m(\u001b[0m\u001b[0;34m)\u001b[0m\u001b[0;34m\u001b[0m\u001b[0;34m\u001b[0m\u001b[0m\n\u001b[0m\u001b[1;32m   1009\u001b[0m     \u001b[0;32mreturn\u001b[0m\u001b[0;34m\u001b[0m\u001b[0;34m\u001b[0m\u001b[0m\n\u001b[1;32m   1010\u001b[0m \u001b[0;34m\u001b[0m\u001b[0m\n",
            "\u001b[0;32m/usr/local/lib/python3.10/dist-packages/nltk/draw/tree.py\u001b[0m in \u001b[0;36m__init__\u001b[0;34m(self, *trees)\u001b[0m\n\u001b[1;32m    857\u001b[0m         \u001b[0mself\u001b[0m\u001b[0;34m.\u001b[0m\u001b[0m_trees\u001b[0m \u001b[0;34m=\u001b[0m \u001b[0mtrees\u001b[0m\u001b[0;34m\u001b[0m\u001b[0;34m\u001b[0m\u001b[0m\n\u001b[1;32m    858\u001b[0m \u001b[0;34m\u001b[0m\u001b[0m\n\u001b[0;32m--> 859\u001b[0;31m         \u001b[0mself\u001b[0m\u001b[0;34m.\u001b[0m\u001b[0m_top\u001b[0m \u001b[0;34m=\u001b[0m \u001b[0mTk\u001b[0m\u001b[0;34m(\u001b[0m\u001b[0;34m)\u001b[0m\u001b[0;34m\u001b[0m\u001b[0;34m\u001b[0m\u001b[0m\n\u001b[0m\u001b[1;32m    860\u001b[0m         \u001b[0mself\u001b[0m\u001b[0;34m.\u001b[0m\u001b[0m_top\u001b[0m\u001b[0;34m.\u001b[0m\u001b[0mtitle\u001b[0m\u001b[0;34m(\u001b[0m\u001b[0;34m\"NLTK\"\u001b[0m\u001b[0;34m)\u001b[0m\u001b[0;34m\u001b[0m\u001b[0;34m\u001b[0m\u001b[0m\n\u001b[1;32m    861\u001b[0m         \u001b[0mself\u001b[0m\u001b[0;34m.\u001b[0m\u001b[0m_top\u001b[0m\u001b[0;34m.\u001b[0m\u001b[0mbind\u001b[0m\u001b[0;34m(\u001b[0m\u001b[0;34m\"<Control-x>\"\u001b[0m\u001b[0;34m,\u001b[0m \u001b[0mself\u001b[0m\u001b[0;34m.\u001b[0m\u001b[0mdestroy\u001b[0m\u001b[0;34m)\u001b[0m\u001b[0;34m\u001b[0m\u001b[0;34m\u001b[0m\u001b[0m\n",
            "\u001b[0;32m/usr/lib/python3.10/tkinter/__init__.py\u001b[0m in \u001b[0;36m__init__\u001b[0;34m(self, screenName, baseName, className, useTk, sync, use)\u001b[0m\n\u001b[1;32m   2297\u001b[0m                 \u001b[0mbaseName\u001b[0m \u001b[0;34m=\u001b[0m \u001b[0mbaseName\u001b[0m \u001b[0;34m+\u001b[0m \u001b[0mext\u001b[0m\u001b[0;34m\u001b[0m\u001b[0;34m\u001b[0m\u001b[0m\n\u001b[1;32m   2298\u001b[0m         \u001b[0minteractive\u001b[0m \u001b[0;34m=\u001b[0m \u001b[0;32mFalse\u001b[0m\u001b[0;34m\u001b[0m\u001b[0;34m\u001b[0m\u001b[0m\n\u001b[0;32m-> 2299\u001b[0;31m         \u001b[0mself\u001b[0m\u001b[0;34m.\u001b[0m\u001b[0mtk\u001b[0m \u001b[0;34m=\u001b[0m \u001b[0m_tkinter\u001b[0m\u001b[0;34m.\u001b[0m\u001b[0mcreate\u001b[0m\u001b[0;34m(\u001b[0m\u001b[0mscreenName\u001b[0m\u001b[0;34m,\u001b[0m \u001b[0mbaseName\u001b[0m\u001b[0;34m,\u001b[0m \u001b[0mclassName\u001b[0m\u001b[0;34m,\u001b[0m \u001b[0minteractive\u001b[0m\u001b[0;34m,\u001b[0m \u001b[0mwantobjects\u001b[0m\u001b[0;34m,\u001b[0m \u001b[0museTk\u001b[0m\u001b[0;34m,\u001b[0m \u001b[0msync\u001b[0m\u001b[0;34m,\u001b[0m \u001b[0muse\u001b[0m\u001b[0;34m)\u001b[0m\u001b[0;34m\u001b[0m\u001b[0;34m\u001b[0m\u001b[0m\n\u001b[0m\u001b[1;32m   2300\u001b[0m         \u001b[0;32mif\u001b[0m \u001b[0museTk\u001b[0m\u001b[0;34m:\u001b[0m\u001b[0;34m\u001b[0m\u001b[0;34m\u001b[0m\u001b[0m\n\u001b[1;32m   2301\u001b[0m             \u001b[0mself\u001b[0m\u001b[0;34m.\u001b[0m\u001b[0m_loadtk\u001b[0m\u001b[0;34m(\u001b[0m\u001b[0;34m)\u001b[0m\u001b[0;34m\u001b[0m\u001b[0;34m\u001b[0m\u001b[0m\n",
            "\u001b[0;31mTclError\u001b[0m: no display name and no $DISPLAY environment variable"
          ]
        }
      ]
    },
    {
      "cell_type": "markdown",
      "source": [
        "## **Chinking**\n",
        "Chinking is used together with chunking, but while chunking is used to include a pattern, chinking is used to exclude a pattern."
      ],
      "metadata": {
        "id": "whj1ReQGiYPk"
      }
    },
    {
      "cell_type": "markdown",
      "source": [
        "## **Using Named Entity Recognition**"
      ],
      "metadata": {
        "id": "C71PLyKbiarU"
      }
    },
    {
      "cell_type": "markdown",
      "source": [
        "## **Getting Text to Analyze**"
      ],
      "metadata": {
        "id": "aody7wlam0q_"
      }
    },
    {
      "cell_type": "code",
      "source": [
        "nltk.download(\"book\")\n",
        "from nltk.book import *"
      ],
      "metadata": {
        "colab": {
          "base_uri": "https://localhost:8080/"
        },
        "id": "n312lVU2n7hL",
        "outputId": "c4a6ac6b-6714-4292-b21a-a83864cde43e"
      },
      "execution_count": 60,
      "outputs": [
        {
          "output_type": "stream",
          "name": "stderr",
          "text": [
            "[nltk_data] Downloading collection 'book'\n",
            "[nltk_data]    | \n",
            "[nltk_data]    | Downloading package abc to /root/nltk_data...\n",
            "[nltk_data]    |   Unzipping corpora/abc.zip.\n",
            "[nltk_data]    | Downloading package brown to /root/nltk_data...\n",
            "[nltk_data]    |   Unzipping corpora/brown.zip.\n",
            "[nltk_data]    | Downloading package chat80 to /root/nltk_data...\n",
            "[nltk_data]    |   Unzipping corpora/chat80.zip.\n",
            "[nltk_data]    | Downloading package cmudict to /root/nltk_data...\n",
            "[nltk_data]    |   Unzipping corpora/cmudict.zip.\n",
            "[nltk_data]    | Downloading package conll2000 to /root/nltk_data...\n",
            "[nltk_data]    |   Unzipping corpora/conll2000.zip.\n",
            "[nltk_data]    | Downloading package conll2002 to /root/nltk_data...\n",
            "[nltk_data]    |   Unzipping corpora/conll2002.zip.\n",
            "[nltk_data]    | Downloading package dependency_treebank to\n",
            "[nltk_data]    |     /root/nltk_data...\n",
            "[nltk_data]    |   Unzipping corpora/dependency_treebank.zip.\n",
            "[nltk_data]    | Downloading package genesis to /root/nltk_data...\n",
            "[nltk_data]    |   Unzipping corpora/genesis.zip.\n",
            "[nltk_data]    | Downloading package gutenberg to /root/nltk_data...\n",
            "[nltk_data]    |   Unzipping corpora/gutenberg.zip.\n",
            "[nltk_data]    | Downloading package ieer to /root/nltk_data...\n",
            "[nltk_data]    |   Unzipping corpora/ieer.zip.\n",
            "[nltk_data]    | Downloading package inaugural to /root/nltk_data...\n",
            "[nltk_data]    |   Unzipping corpora/inaugural.zip.\n",
            "[nltk_data]    | Downloading package movie_reviews to\n",
            "[nltk_data]    |     /root/nltk_data...\n",
            "[nltk_data]    |   Unzipping corpora/movie_reviews.zip.\n",
            "[nltk_data]    | Downloading package nps_chat to /root/nltk_data...\n",
            "[nltk_data]    |   Unzipping corpora/nps_chat.zip.\n",
            "[nltk_data]    | Downloading package names to /root/nltk_data...\n",
            "[nltk_data]    |   Unzipping corpora/names.zip.\n",
            "[nltk_data]    | Downloading package ppattach to /root/nltk_data...\n",
            "[nltk_data]    |   Unzipping corpora/ppattach.zip.\n",
            "[nltk_data]    | Downloading package reuters to /root/nltk_data...\n",
            "[nltk_data]    | Downloading package senseval to /root/nltk_data...\n",
            "[nltk_data]    |   Unzipping corpora/senseval.zip.\n",
            "[nltk_data]    | Downloading package state_union to /root/nltk_data...\n",
            "[nltk_data]    |   Unzipping corpora/state_union.zip.\n",
            "[nltk_data]    | Downloading package stopwords to /root/nltk_data...\n",
            "[nltk_data]    |   Package stopwords is already up-to-date!\n",
            "[nltk_data]    | Downloading package swadesh to /root/nltk_data...\n",
            "[nltk_data]    |   Unzipping corpora/swadesh.zip.\n",
            "[nltk_data]    | Downloading package timit to /root/nltk_data...\n",
            "[nltk_data]    |   Unzipping corpora/timit.zip.\n",
            "[nltk_data]    | Downloading package treebank to /root/nltk_data...\n",
            "[nltk_data]    |   Unzipping corpora/treebank.zip.\n",
            "[nltk_data]    | Downloading package toolbox to /root/nltk_data...\n",
            "[nltk_data]    |   Unzipping corpora/toolbox.zip.\n",
            "[nltk_data]    | Downloading package udhr to /root/nltk_data...\n",
            "[nltk_data]    |   Unzipping corpora/udhr.zip.\n",
            "[nltk_data]    | Downloading package udhr2 to /root/nltk_data...\n",
            "[nltk_data]    |   Unzipping corpora/udhr2.zip.\n",
            "[nltk_data]    | Downloading package unicode_samples to\n",
            "[nltk_data]    |     /root/nltk_data...\n",
            "[nltk_data]    |   Unzipping corpora/unicode_samples.zip.\n",
            "[nltk_data]    | Downloading package webtext to /root/nltk_data...\n",
            "[nltk_data]    |   Unzipping corpora/webtext.zip.\n",
            "[nltk_data]    | Downloading package wordnet to /root/nltk_data...\n",
            "[nltk_data]    |   Package wordnet is already up-to-date!\n",
            "[nltk_data]    | Downloading package wordnet_ic to /root/nltk_data...\n",
            "[nltk_data]    |   Unzipping corpora/wordnet_ic.zip.\n",
            "[nltk_data]    | Downloading package words to /root/nltk_data...\n",
            "[nltk_data]    |   Package words is already up-to-date!\n",
            "[nltk_data]    | Downloading package maxent_treebank_pos_tagger to\n",
            "[nltk_data]    |     /root/nltk_data...\n",
            "[nltk_data]    |   Unzipping taggers/maxent_treebank_pos_tagger.zip.\n",
            "[nltk_data]    | Downloading package maxent_ne_chunker to\n",
            "[nltk_data]    |     /root/nltk_data...\n",
            "[nltk_data]    |   Package maxent_ne_chunker is already up-to-date!\n",
            "[nltk_data]    | Downloading package universal_tagset to\n",
            "[nltk_data]    |     /root/nltk_data...\n",
            "[nltk_data]    |   Unzipping taggers/universal_tagset.zip.\n",
            "[nltk_data]    | Downloading package punkt to /root/nltk_data...\n",
            "[nltk_data]    |   Package punkt is already up-to-date!\n",
            "[nltk_data]    | Downloading package book_grammars to\n",
            "[nltk_data]    |     /root/nltk_data...\n",
            "[nltk_data]    |   Unzipping grammars/book_grammars.zip.\n",
            "[nltk_data]    | Downloading package city_database to\n",
            "[nltk_data]    |     /root/nltk_data...\n",
            "[nltk_data]    |   Unzipping corpora/city_database.zip.\n",
            "[nltk_data]    | Downloading package tagsets to /root/nltk_data...\n",
            "[nltk_data]    |   Package tagsets is already up-to-date!\n",
            "[nltk_data]    | Downloading package panlex_swadesh to\n",
            "[nltk_data]    |     /root/nltk_data...\n",
            "[nltk_data]    | Downloading package averaged_perceptron_tagger to\n",
            "[nltk_data]    |     /root/nltk_data...\n",
            "[nltk_data]    |   Package averaged_perceptron_tagger is already up-\n",
            "[nltk_data]    |       to-date!\n",
            "[nltk_data]    | \n",
            "[nltk_data]  Done downloading collection book\n"
          ]
        },
        {
          "output_type": "stream",
          "name": "stdout",
          "text": [
            "*** Introductory Examples for the NLTK Book ***\n",
            "Loading text1, ..., text9 and sent1, ..., sent9\n",
            "Type the name of the text or sentence to view it.\n",
            "Type: 'texts()' or 'sents()' to list the materials.\n",
            "text1: Moby Dick by Herman Melville 1851\n",
            "text2: Sense and Sensibility by Jane Austen 1811\n",
            "text3: The Book of Genesis\n",
            "text4: Inaugural Address Corpus\n",
            "text5: Chat Corpus\n",
            "text6: Monty Python and the Holy Grail\n",
            "text7: Wall Street Journal\n",
            "text8: Personals Corpus\n",
            "text9: The Man Who Was Thursday by G . K . Chesterton 1908\n"
          ]
        }
      ]
    },
    {
      "cell_type": "markdown",
      "source": [
        "## **Using a Concordance**\n",
        "When you use a concordance, you can see each time a word is used, along with its immediate context. This can give you a peek into how a word is being used at the sentence level and what words are used with it."
      ],
      "metadata": {
        "id": "r9v7aigfn8DP"
      }
    },
    {
      "cell_type": "code",
      "source": [
        "text8.concordance(\"man\")"
      ],
      "metadata": {
        "colab": {
          "base_uri": "https://localhost:8080/"
        },
        "id": "ogsIdyBCoAzk",
        "outputId": "4fa8a43e-7df1-43c3-8584-d6c73a61d4bb"
      },
      "execution_count": 62,
      "outputs": [
        {
          "output_type": "stream",
          "name": "stdout",
          "text": [
            "Displaying 14 of 14 matches:\n",
            " to hearing from you all . ABLE young man seeks , sexy older women . Phone for \n",
            "ble relationship . GENUINE ATTRACTIVE MAN 40 y . o ., no ties , secure , 5 ft .\n",
            "ship , and quality times . VIETNAMESE MAN Single , never married , financially \n",
            "ip . WELL DRESSED emotionally healthy man 37 like to meet full figured woman fo\n",
            " nth subs LIKE TO BE MISTRESS of YOUR MAN like to be treated well . Bold DTE no\n",
            "eeks lady in similar position MARRIED MAN 50 , attrac . fit , seeks lady 40 - 5\n",
            "eks nice girl 25 - 30 serious rship . Man 46 attractive fit , assertive , and k\n",
            " 40 - 50 sought by Aussie mid 40s b / man f / ship r / ship LOVE to meet widowe\n",
            "discreet times . Sth E Subs . MARRIED MAN 42yo 6ft , fit , seeks Lady for discr\n",
            "woman , seeks professional , employed man , with interests in theatre , dining \n",
            " tall and of large build seeks a good man . I am a nonsmoker , social drinker ,\n",
            "lead to relationship . SEEKING HONEST MAN I am 41 y . o ., 5 ft . 4 , med . bui\n",
            " quiet times . Seeks 35 - 45 , honest man with good SOH & similar interests , f\n",
            " genuine , caring , honest and normal man for fship , poss rship . S / S , S / \n"
          ]
        }
      ]
    },
    {
      "cell_type": "markdown",
      "source": [
        "## **Making a Dispersion Plot**\n",
        "You can use a dispersion plot to see how much a particular word appears and where it appears. So far, we’ve looked for \"man\" and \"woman\", but it would be interesting to see how much those words are used compared to their synonyms:"
      ],
      "metadata": {
        "id": "4zf4fHv_oLPK"
      }
    },
    {
      "cell_type": "code",
      "source": [
        "text8.dispersion_plot(\n",
        "    [\"woman\", \"lady\", \"girl\", \"gal\", \"man\", \"gentleman\", \"boy\", \"guy\"]\n",
        ")"
      ],
      "metadata": {
        "colab": {
          "base_uri": "https://localhost:8080/",
          "height": 472
        },
        "id": "j0NTRnmOor2h",
        "outputId": "4a47b61b-ffd6-4cd4-a182-30636ac447db"
      },
      "execution_count": 64,
      "outputs": [
        {
          "output_type": "display_data",
          "data": {
            "text/plain": [
              "<Figure size 640x480 with 1 Axes>"
            ],
            "image/png": "[encoded data removed]"
          },
          "metadata": {}
        }
      ]
    },
    {
      "cell_type": "markdown",
      "source": [
        "## **Making a Frequency Distribution**\n",
        "With a frequency distribution, you can check which words show up most frequently in your text."
      ],
      "metadata": {
        "id": "drHt_NpRovvm"
      }
    },
    {
      "cell_type": "code",
      "source": [
        "from nltk import FreqDist\n",
        "frequency_distribution = FreqDist(text8)\n",
        "print(frequency_distribution)"
      ],
      "metadata": {
        "colab": {
          "base_uri": "https://localhost:8080/"
        },
        "id": "NhM-iJLQo5g-",
        "outputId": "4fd812c1-0350-4e3b-d60b-7bd4de535bc6"
      },
      "execution_count": 65,
      "outputs": [
        {
          "output_type": "stream",
          "name": "stdout",
          "text": [
            "<FreqDist with 1108 samples and 4867 outcomes>\n"
          ]
        }
      ]
    },
    {
      "cell_type": "code",
      "source": [
        "frequency_distribution.most_common(20)\n"
      ],
      "metadata": {
        "colab": {
          "base_uri": "https://localhost:8080/"
        },
        "id": "coAvDXvUo81a",
        "outputId": "de333995-6473-4904-8e06-a4896970fc25"
      },
      "execution_count": 67,
      "outputs": [
        {
          "output_type": "execute_result",
          "data": {
            "text/plain": [
              "[(',', 539),\n",
              " ('.', 353),\n",
              " ('/', 110),\n",
              " ('for', 99),\n",
              " ('and', 74),\n",
              " ('to', 74),\n",
              " ('lady', 68),\n",
              " ('-', 66),\n",
              " ('seeks', 60),\n",
              " ('a', 52),\n",
              " ('with', 44),\n",
              " ('S', 36),\n",
              " ('ship', 33),\n",
              " ('&', 30),\n",
              " ('relationship', 29),\n",
              " ('fun', 28),\n",
              " ('in', 27),\n",
              " ('slim', 27),\n",
              " ('build', 27),\n",
              " ('o', 26)]"
            ]
          },
          "metadata": {},
          "execution_count": 67
        }
      ]
    },
    {
      "cell_type": "code",
      "source": [
        "# removing stopwords\n",
        "meaningful_words = [\n",
        "    word for word in text8 if word.casefold() not in stop_words\n",
        "]"
      ],
      "metadata": {
        "id": "a7vUhaYpo-Xa"
      },
      "execution_count": 68,
      "outputs": []
    },
    {
      "cell_type": "code",
      "source": [
        "frequency_distribution = FreqDist(meaningful_words)"
      ],
      "metadata": {
        "id": "29l30jN4pE5G"
      },
      "execution_count": 69,
      "outputs": []
    },
    {
      "cell_type": "code",
      "source": [
        "frequency_distribution.plot(20, cumulative=True)"
      ],
      "metadata": {
        "colab": {
          "base_uri": "https://localhost:8080/",
          "height": 534
        },
        "id": "EzbI-WG6pGkm",
        "outputId": "c82c39c2-c8b6-49b1-e529-2e65277f043c"
      },
      "execution_count": 70,
      "outputs": [
        {
          "output_type": "display_data",
          "data": {
            "text/plain": [
              "<Figure size 640x480 with 1 Axes>"
            ],
            "image/png": "[encoded data removed]"
          },
          "metadata": {}
        },
        {
          "output_type": "execute_result",
          "data": {
            "text/plain": [
              "<Axes: xlabel='Samples', ylabel='Cumulative Counts'>"
            ]
          },
          "metadata": {},
          "execution_count": 70
        }
      ]
    },
    {
      "cell_type": "markdown",
      "source": [
        "## **Finding Collocations**\n",
        "A collocation is a sequence of words that shows up often."
      ],
      "metadata": {
        "id": "990_kN2BpJuH"
      }
    },
    {
      "cell_type": "code",
      "source": [
        "text8.collocations()"
      ],
      "metadata": {
        "colab": {
          "base_uri": "https://localhost:8080/"
        },
        "id": "dK_ATRSypOfP",
        "outputId": "c186359f-1930-4bc2-dbc0-d4babf527d2b"
      },
      "execution_count": 71,
      "outputs": [
        {
          "output_type": "stream",
          "name": "stdout",
          "text": [
            "would like; medium build; social drinker; quiet nights; non smoker;\n",
            "long term; age open; Would like; easy going; financially secure; fun\n",
            "times; similar interests; Age open; weekends away; poss rship; well\n",
            "presented; never married; single mum; permanent relationship; slim\n",
            "build\n"
          ]
        }
      ]
    },
    {
      "cell_type": "code",
      "source": [
        "lemmatized_words = [lemmatizer.lemmatize(word) for word in text8]"
      ],
      "metadata": {
        "id": "H16l_HtIpZDL"
      },
      "execution_count": 72,
      "outputs": []
    },
    {
      "cell_type": "code",
      "source": [
        "new_text = nltk.Text(lemmatized_words)"
      ],
      "metadata": {
        "id": "whvaomxrpax4"
      },
      "execution_count": 73,
      "outputs": []
    },
    {
      "cell_type": "code",
      "source": [
        "new_text.collocations()"
      ],
      "metadata": {
        "colab": {
          "base_uri": "https://localhost:8080/"
        },
        "id": "MSAp24_rpcZY",
        "outputId": "bc9c9c0c-b7a9-44ef-d1e2-30a0127e6b3c"
      },
      "execution_count": 74,
      "outputs": [
        {
          "output_type": "stream",
          "name": "stdout",
          "text": [
            "medium build; social drinker; non smoker; quiet night; long term;\n",
            "would like; age open; easy going; financially secure; Would like; fun\n",
            "time; similar interest; Age open; weekend away; well presented; never\n",
            "married; single mum; permanent relationship; year old; slim build\n"
          ]
        }
      ]
    },
    {
      "cell_type": "code",
      "source": [
        "# Thank You"
      ],
      "metadata": {
        "id": "V4G8J8nLpd3W"
      },
      "execution_count": 75,
      "outputs": []
    },
    {
      "cell_type": "code",
      "source": [],
      "metadata": {
        "id": "qwWNaEqwphY3"
      },
      "execution_count": null,
      "outputs": []
    }
  ]
}